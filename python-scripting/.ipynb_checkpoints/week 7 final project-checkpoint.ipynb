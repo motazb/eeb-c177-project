{
 "cells": [
  {
   "cell_type": "code",
   "execution_count": 83,
   "metadata": {},
   "outputs": [],
   "source": [
    "def openfile(fname):\n",
    "    import numpy\n",
    "    import pandas as pd\n",
    "    tmp_data = pd.read_csv(fname)\n",
    "    data = tmp_data.to_numpy()\n",
    "    \n",
    "#opens a file of choosing"
   ]
  },
  {
   "cell_type": "code",
   "execution_count": 84,
   "metadata": {},
   "outputs": [],
   "source": [
    "def maxage(fname):\n",
    "    import numpy\n",
    "    import pandas as pd\n",
    "    tmp_data = pd.read_csv(fname)\n",
    "    data = tmp_data.to_numpy()\n",
    "    age = data[:,4]\n",
    "    age_max = numpy.max(age)\n",
    "    print(age_max)\n",
    "#finds max age after specifying file"
   ]
  },
  {
   "cell_type": "code",
   "execution_count": 85,
   "metadata": {},
   "outputs": [],
   "source": [
    "def display(source, numlines = 3):\n",
    "    with open(source) as f:\n",
    "        for i, line in enumerate(f):\n",
    "            print(line.strip())\n",
    "            if i == numlines:\n",
    "                break\n",
    "#displays what's in the specified file with the specified number of lines. If not specified\n",
    "#it will display 3 by default"
   ]
  },
  {
   "cell_type": "code",
   "execution_count": 86,
   "metadata": {},
   "outputs": [],
   "source": [
    "def importgenderdata(source, output, gender):\n",
    "    import csv\n",
    "    with open (source) as fr:\n",
    "        reader = csv.DictReader(fr)\n",
    "        header = reader.fieldnames\n",
    "        with open (output, \"w\") as fw:\n",
    "            writer = csv.DictWriter(fw, fieldnames = header, delimiter = \",\")\n",
    "            for row in reader:\n",
    "                if row[\"sex\"] == gender:\n",
    "                    writer.writerow(row)\n",
    "#imports data for specified gender from a file to another file"
   ]
  },
  {
   "cell_type": "code",
   "execution_count": 87,
   "metadata": {},
   "outputs": [],
   "source": [
    "def hist(source):\n",
    "    import numpy\n",
    "    import pandas as pd\n",
    "    tmp_data = pd.read_csv(source)\n",
    "    data = tmp_data.to_numpy()\n",
    "    import matplotlib.pyplot as plt\n",
    "    ages = data[:,4]\n",
    "    x = [ages]\n",
    "    plt.style.use('ggplot')\n",
    "    plt.hist(x, bins = 10)\n",
    "#creates histogram of ages after specifying file"
   ]
  },
  {
   "cell_type": "code",
   "execution_count": 88,
   "metadata": {},
   "outputs": [],
   "source": [
    "def importrows(source, output, row1, row2):\n",
    "    with open(source, mode='r') as infile:\n",
    "        reader = csv.reader(infile)\n",
    "        with open(output, mode='w') as outfile:\n",
    "            writer = csv.writer(outfile)\n",
    "            mydict = {rows[row1]:rows[row2] for rows in reader}\n",
    "\n",
    "#imports specified rows from one file to another."
   ]
  },
  {
   "cell_type": "code",
   "execution_count": 89,
   "metadata": {},
   "outputs": [],
   "source": [
    "def genderages():\n",
    "    import csv\n",
    "    with open('patientdata.csv', newline='') as csvfile:\n",
    "        reader = csv.DictReader(csvfile)\n",
    "        for row in reader:\n",
    "            print(row['sex'], row['age'])\n",
    "#displays every patient's gender and age"
   ]
  },
  {
   "cell_type": "code",
   "execution_count": null,
   "metadata": {},
   "outputs": [],
   "source": []
  },
  {
   "cell_type": "code",
   "execution_count": null,
   "metadata": {},
   "outputs": [],
   "source": []
  }
 ],
 "metadata": {
  "kernelspec": {
   "display_name": "Python 3",
   "language": "python",
   "name": "python3"
  },
  "language_info": {
   "codemirror_mode": {
    "name": "ipython",
    "version": 3
   },
   "file_extension": ".py",
   "mimetype": "text/x-python",
   "name": "python",
   "nbconvert_exporter": "python",
   "pygments_lexer": "ipython3",
   "version": "3.7.6"
  }
 },
 "nbformat": 4,
 "nbformat_minor": 4
}
