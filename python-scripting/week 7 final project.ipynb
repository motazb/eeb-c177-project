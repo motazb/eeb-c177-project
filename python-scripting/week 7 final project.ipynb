{
 "cells": [
  {
   "cell_type": "code",
   "execution_count": 1,
   "metadata": {},
   "outputs": [],
   "source": [
    "def openfile(fname):\n",
    "    import numpy\n",
    "    import pandas as pd\n",
    "    tmp_data = pd.read_csv(fname)\n",
    "    data = tmp_data.to_numpy()\n",
    "    \n",
    "#opens a file of choosing"
   ]
  },
  {
   "cell_type": "code",
   "execution_count": 2,
   "metadata": {},
   "outputs": [],
   "source": [
    "def maxage(fname):\n",
    "    import numpy\n",
    "    import pandas as pd\n",
    "    tmp_data = pd.read_csv(fname)\n",
    "    data = tmp_data.to_numpy()\n",
    "    assert age_max != 0\n",
    "    age = data[:,4]\n",
    "    age_max = numpy.max(age)\n",
    "    print(\"The oldest patient is \", age_max, \" years old.\")\n",
    "#finds max age after specifying file"
   ]
  },
  {
   "cell_type": "code",
   "execution_count": 3,
   "metadata": {
    "scrolled": true
   },
   "outputs": [
    {
     "name": "stdout",
     "output_type": "stream",
     "text": [
      "caseNumber,treatmentDate,statWeight,stratum,age,sex,race,diagnosis,bodyPart,disposition,location,product\n",
      "150733174,7/11/2015,15.7762,V,5,Male,,57,33,1,9,1267\n",
      "150734723,7/6/2015,83.2157,S,36,Male,White,57,34,1,1,1439\n",
      "150817487,8/2/2015,74.8813,L,20,Female,,71,94,1,0,3274\n"
     ]
    }
   ],
   "source": [
    "def display(source, numlines = 3):\n",
    "    with open(source) as f:\n",
    "        for i, line in enumerate(f):\n",
    "            print(line.strip())\n",
    "            if i == numlines:\n",
    "                break\n",
    "                \n",
    "display('patientdata.csv')\n",
    "#displays what's in the specified file with the specified number of lines. If not specified\n",
    "#it will display 3 by default"
   ]
  },
  {
   "cell_type": "code",
   "execution_count": 4,
   "metadata": {},
   "outputs": [
    {
     "name": "stdout",
     "output_type": "stream",
     "text": [
      "{'caseNumber': '150733174', 'treatmentDate': '7/11/2015', 'statWeight': '15.7762', 'stratum': 'V', 'age': '5', 'sex': 'Male', 'race': '', 'diagnosis': '57', 'bodyPart': '33', 'disposition': '1', 'location': '9', 'product': '1267'}\n",
      "{'caseNumber': '150734723', 'treatmentDate': '7/6/2015', 'statWeight': '83.2157', 'stratum': 'S', 'age': '36', 'sex': 'Male', 'race': 'White', 'diagnosis': '57', 'bodyPart': '34', 'disposition': '1', 'location': '1', 'product': '1439'}\n",
      "{'caseNumber': '150817487', 'treatmentDate': '8/2/2015', 'statWeight': '74.8813', 'stratum': 'L', 'age': '20', 'sex': 'Female', 'race': '', 'diagnosis': '71', 'bodyPart': '94', 'disposition': '1', 'location': '0', 'product': '3274'}\n",
      "{'caseNumber': '150717776', 'treatmentDate': '6/26/2015', 'statWeight': '15.7762', 'stratum': 'V', 'age': '61', 'sex': 'Male', 'race': '', 'diagnosis': '71', 'bodyPart': '35', 'disposition': '1', 'location': '0', 'product': '611'}\n",
      "{'caseNumber': '150721694', 'treatmentDate': '7/4/2015', 'statWeight': '74.8813', 'stratum': 'L', 'age': '88', 'sex': 'Female', 'race': 'Other', 'diagnosis': '62', 'bodyPart': '75', 'disposition': '1', 'location': '0', 'product': '1893'}\n"
     ]
    }
   ],
   "source": [
    "def displaydict(source, numlines = 3):\n",
    "    import csv\n",
    "    with open(source) as f:\n",
    "        reader = csv.DictReader(f)\n",
    "        for i, row in enumerate(reader):\n",
    "            print(dict(row))\n",
    "            if i > numlines:\n",
    "                break\n",
    "                \n",
    "displaydict('patientdata.csv')\n",
    "#displays what's in the specified file into a dictionary with the specified number of lines\n",
    "#if number of lines isn't specified, it will show 3 lines by default"
   ]
  },
  {
   "cell_type": "code",
   "execution_count": 5,
   "metadata": {},
   "outputs": [
    {
     "name": "stdout",
     "output_type": "stream",
     "text": [
      "150817487,8/2/2015,74.8813,L,20,Female,,71,94,1,0,3274\n",
      "150721694,7/4/2015,74.8813,L,88,Female,Other,62,75,1,0,1893\n",
      "150721815,7/2/2015,5.6748,C,1,Female,White,71,76,1,1,1715\n",
      "150734928,7/13/2015,74.8813,L,48,Female,Black,53,79,1,5,4057\n"
     ]
    }
   ],
   "source": [
    "def importgenderdata(source, output, gender):\n",
    "    import csv\n",
    "    assert gender != \"Female\" or \"Male\", \"Please ensure first letter of gender is capitalized\"\n",
    "    with open (source) as fr:\n",
    "        reader = csv.DictReader(fr)\n",
    "        header = reader.fieldnames\n",
    "        with open (output, \"w\") as fw:\n",
    "            writer = csv.DictWriter(fw, fieldnames = header, delimiter = \",\")\n",
    "            for row in reader:\n",
    "                if row[\"sex\"] == gender:\n",
    "                    writer.writerow(row)\n",
    "importgenderdata('patientdata.csv', 'femaledata.csv', 'Female')\n",
    "display('femaledata.csv')\n",
    "#imports data for specified gender from a file to another file"
   ]
  },
  {
   "cell_type": "code",
   "execution_count": 9,
   "metadata": {},
   "outputs": [],
   "source": [
    "def hist(source):\n",
    "    import numpy\n",
    "    import pandas as pd\n",
    "    tmp_data = pd.read_csv(source)\n",
    "    data = tmp_data.to_numpy()\n",
    "    import matplotlib.pyplot as plt\n",
    "    ages = data[:,4]\n",
    "    x = [ages]\n",
    "    plt.style.use('ggplot')\n",
    "    plt.hist(x, bins = 10)\n",
    "#creates histogram of ages after specifying file"
   ]
  },
  {
   "cell_type": "code",
   "execution_count": 7,
   "metadata": {},
   "outputs": [],
   "source": [
    "def importrows(source, output, row1, row2):\n",
    "    with open(source, mode='r') as infile:\n",
    "        reader = csv.reader(infile)\n",
    "        with open(output, mode='w') as outfile:\n",
    "            writer = csv.writer(outfile)\n",
    "            mydict = {rows[row1]:rows[row2] for rows in reader}\n",
    "\n",
    "#imports specified rows from one file to another."
   ]
  },
  {
   "cell_type": "code",
   "execution_count": 8,
   "metadata": {},
   "outputs": [],
   "source": [
    "def genderages():\n",
    "    import csv\n",
    "    with open('patientdata.csv', newline='') as csvfile:\n",
    "        reader = csv.DictReader(csvfile)\n",
    "        for row in reader:\n",
    "            print(row['sex'], row['age'])\n",
    "#displays every patient's gender and age"
   ]
  },
  {
   "cell_type": "code",
   "execution_count": null,
   "metadata": {},
   "outputs": [],
   "source": []
  },
  {
   "cell_type": "code",
   "execution_count": null,
   "metadata": {},
   "outputs": [],
   "source": []
  }
 ],
 "metadata": {
  "kernelspec": {
   "display_name": "Python 3",
   "language": "python",
   "name": "python3"
  },
  "language_info": {
   "codemirror_mode": {
    "name": "ipython",
    "version": 3
   },
   "file_extension": ".py",
   "mimetype": "text/x-python",
   "name": "python",
   "nbconvert_exporter": "python",
   "pygments_lexer": "ipython3",
   "version": "3.7.6"
  }
 },
 "nbformat": 4,
 "nbformat_minor": 4
}
