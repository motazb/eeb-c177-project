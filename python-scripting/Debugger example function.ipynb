{
 "cells": [
  {
   "cell_type": "code",
   "execution_count": 12,
   "metadata": {},
   "outputs": [],
   "source": [
    "def maxage(fname):\n",
    "    import numpy\n",
    "    import pandas as pd\n",
    "    tmp_data = pd.read_csv(fname)\n",
    "    data = tmp_data.to_numpy()\n",
    "    age = data[:,4]\n",
    "    age_max = numpy.max(age)\n",
    "    import pdb; pdb.set_trace()\n",
    "    assert age_max != 0\n",
    "    print(age_max)"
   ]
  },
  {
   "cell_type": "code",
   "execution_count": 13,
   "metadata": {},
   "outputs": [
    {
     "name": "stdout",
     "output_type": "stream",
     "text": [
      "> <ipython-input-12-13a3dbb3b4e3>(9)maxage()\n",
      "-> assert age_max != 0\n",
      "(Pdb) n\n",
      "> <ipython-input-12-13a3dbb3b4e3>(10)maxage()\n",
      "-> print(age_max)\n",
      "(Pdb) n\n",
      "107\n",
      "--Return--\n",
      "> <ipython-input-12-13a3dbb3b4e3>(10)maxage()->None\n",
      "-> print(age_max)\n",
      "(Pdb) c\n"
     ]
    }
   ],
   "source": [
    "maxage('patientdata.csv')"
   ]
  },
  {
   "cell_type": "code",
   "execution_count": null,
   "metadata": {},
   "outputs": [],
   "source": []
  }
 ],
 "metadata": {
  "kernelspec": {
   "display_name": "Python 3",
   "language": "python",
   "name": "python3"
  },
  "language_info": {
   "codemirror_mode": {
    "name": "ipython",
    "version": 3
   },
   "file_extension": ".py",
   "mimetype": "text/x-python",
   "name": "python",
   "nbconvert_exporter": "python",
   "pygments_lexer": "ipython3",
   "version": "3.7.6"
  }
 },
 "nbformat": 4,
 "nbformat_minor": 4
}
