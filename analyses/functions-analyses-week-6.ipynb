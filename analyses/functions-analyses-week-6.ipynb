{
 "cells": [
  {
   "cell_type": "markdown",
   "metadata": {},
   "source": [
    "#Part 1"
   ]
  },
  {
   "cell_type": "code",
   "execution_count": 25,
   "metadata": {},
   "outputs": [],
   "source": [
    "import numpy\n",
    "import pandas as pd"
   ]
  },
  {
   "cell_type": "code",
   "execution_count": 74,
   "metadata": {},
   "outputs": [],
   "source": [
    "#Pulling up patientdata.csv and naming it data\n",
    "tmp_data = pd.read_csv('patientdata.csv')\n",
    "data = tmp_data.to_numpy()"
   ]
  },
  {
   "cell_type": "code",
   "execution_count": 31,
   "metadata": {},
   "outputs": [
    {
     "name": "stdout",
     "output_type": "stream",
     "text": [
      "107\n"
     ]
    }
   ],
   "source": [
    "age = data[:,4]\n",
    "age_max = numpy.max(age)\n",
    "print(age_max)"
   ]
  },
  {
   "cell_type": "code",
   "execution_count": 75,
   "metadata": {},
   "outputs": [
    {
     "name": "stdout",
     "output_type": "stream",
     "text": [
      "caseNumber,treatmentDate,statWeight,stratum,age,sex,race,diagnosis,bodyPart,disposition,location,product\n",
      "150733174,7/11/2015,15.7762,V,5,Male,,57,33,1,9,1267\n",
      "150734723,7/6/2015,83.2157,S,36,Male,White,57,34,1,1,1439\n",
      "150817487,8/2/2015,74.8813,L,20,Female,,71,94,1,0,3274\n"
     ]
    }
   ],
   "source": [
    "#Showing some of what's in patientdata\n",
    "with open(\"patientdata.csv\") as f:\n",
    "    for i, line in enumerate(f):\n",
    "        print(line.strip())\n",
    "        if i > 2:\n",
    "            break"
   ]
  },
  {
   "cell_type": "code",
   "execution_count": 76,
   "metadata": {},
   "outputs": [
    {
     "name": "stdout",
     "output_type": "stream",
     "text": [
      "{'caseNumber': '150733174', 'treatmentDate': '7/11/2015', 'statWeight': '15.7762', 'stratum': 'V', 'age': '5', 'sex': 'Male', 'race': '', 'diagnosis': '57', 'bodyPart': '33', 'disposition': '1', 'location': '9', 'product': '1267'}\n",
      "{'caseNumber': '150734723', 'treatmentDate': '7/6/2015', 'statWeight': '83.2157', 'stratum': 'S', 'age': '36', 'sex': 'Male', 'race': 'White', 'diagnosis': '57', 'bodyPart': '34', 'disposition': '1', 'location': '1', 'product': '1439'}\n",
      "{'caseNumber': '150817487', 'treatmentDate': '8/2/2015', 'statWeight': '74.8813', 'stratum': 'L', 'age': '20', 'sex': 'Female', 'race': '', 'diagnosis': '71', 'bodyPart': '94', 'disposition': '1', 'location': '0', 'product': '3274'}\n",
      "{'caseNumber': '150717776', 'treatmentDate': '6/26/2015', 'statWeight': '15.7762', 'stratum': 'V', 'age': '61', 'sex': 'Male', 'race': '', 'diagnosis': '71', 'bodyPart': '35', 'disposition': '1', 'location': '0', 'product': '611'}\n"
     ]
    }
   ],
   "source": [
    "#printing out patientdata.csv in a dictionary\n",
    "import csv\n",
    "with open(\"patientdata.csv\") as f:\n",
    "    reader = csv.DictReader(f)\n",
    "    for i, row in enumerate(reader):\n",
    "        print(dict(row))\n",
    "        if i > 2:\n",
    "            break"
   ]
  },
  {
   "cell_type": "code",
   "execution_count": 78,
   "metadata": {},
   "outputs": [],
   "source": [
    "#getting data only for when sex is male\n",
    "#and putting it in a maledata.csv file\n",
    "with open (\"patientdata.csv\") as fr:\n",
    "    reader = csv.DictReader(fr)\n",
    "    header = reader.fieldnames\n",
    "    with open (\"maledata.csv\", \"w\") as fw:\n",
    "        writer = csv.DictWriter(fw, fieldnames = header, delimiter = \",\")\n",
    "        for row in reader:\n",
    "            if row[\"sex\"] == \"Male\":\n",
    "                writer.writerow(row)"
   ]
  },
  {
   "cell_type": "code",
   "execution_count": 79,
   "metadata": {},
   "outputs": [],
   "source": [
    "#getting data only for when sex is female\n",
    "#and putting it in a femaledata.csv file\n",
    "with open (\"patientdata.csv\") as fr:\n",
    "    reader = csv.DictReader(fr)\n",
    "    header = reader.fieldnames\n",
    "    with open (\"femaledata.csv\", \"w\") as fw:\n",
    "        writer = csv.DictWriter(fw, fieldnames = header, delimiter = \",\")\n",
    "        for row in reader:\n",
    "            if row[\"sex\"] == \"Female\":\n",
    "                writer.writerow(row)"
   ]
  },
  {
   "cell_type": "code",
   "execution_count": 80,
   "metadata": {},
   "outputs": [
    {
     "name": "stdout",
     "output_type": "stream",
     "text": [
      "150733174,7/11/2015,15.7762,V,5,Male,,57,33,1,9,1267\n",
      "150734723,7/6/2015,83.2157,S,36,Male,White,57,34,1,1,1439\n",
      "150717776,6/26/2015,15.7762,V,61,Male,,71,35,1,0,611\n",
      "150713483,6/8/2015,15.7762,V,25,Male,Black,51,33,4,9,1138\n",
      "150704114,6/14/2015,83.2157,S,53,Male,White,57,30,1,0,5040\n"
     ]
    }
   ],
   "source": [
    "#showing some of what's in maledata.csv\n",
    "with open(\"maledata.csv\") as f:\n",
    "    for i, line in enumerate(f):\n",
    "        print(line.strip())\n",
    "        if i > 3:\n",
    "            break"
   ]
  },
  {
   "cell_type": "code",
   "execution_count": 81,
   "metadata": {},
   "outputs": [
    {
     "name": "stdout",
     "output_type": "stream",
     "text": [
      "150817487,8/2/2015,74.8813,L,20,Female,,71,94,1,0,3274\n",
      "150721694,7/4/2015,74.8813,L,88,Female,Other,62,75,1,0,1893\n",
      "150721815,7/2/2015,5.6748,C,1,Female,White,71,76,1,1,1715\n",
      "150734928,7/13/2015,74.8813,L,48,Female,Black,53,79,1,5,4057\n",
      "150821622,7/20/2015,83.2157,S,20,Female,White,57,36,1,9,1267\n"
     ]
    }
   ],
   "source": [
    "#show some of what's in femaledata.csv\n",
    "with open(\"femaledata.csv\") as f:\n",
    "    for i, line in enumerate(f):\n",
    "        print(line.strip())\n",
    "        if i > 3:\n",
    "            break"
   ]
  },
  {
   "cell_type": "code",
   "execution_count": 82,
   "metadata": {},
   "outputs": [
    {
     "data": {
      "text/plain": [
       "(array([88522., 72827., 39723., 27362., 29888., 27490., 18796., 17715.,\n",
       "        11707.,   809.]),\n",
       " array([0.0, 10.7, 21.4, 32.099999999999994, 42.8, 53.5, 64.19999999999999,\n",
       "        74.89999999999999, 85.6, 96.3, 107.0], dtype=object),\n",
       " <a list of 10 Patch objects>)"
      ]
     },
     "execution_count": 82,
     "metadata": {},
     "output_type": "execute_result"
    },
    {
     "data": {
      "image/png": "[encoded data removed]",
      "text/plain": [
       "<Figure size 432x288 with 1 Axes>"
      ]
     },
     "metadata": {},
     "output_type": "display_data"
    }
   ],
   "source": [
    "#making histogram of all ages\n",
    "import matplotlib.pyplot as plt\n",
    "ages = data[:,4]\n",
    "x = [ages]\n",
    "plt.style.use('ggplot')\n",
    "plt.hist(x, bins = 10)"
   ]
  },
  {
   "cell_type": "markdown",
   "metadata": {},
   "source": [
    "Part 2:"
   ]
  },
  {
   "cell_type": "code",
   "execution_count": 48,
   "metadata": {},
   "outputs": [
    {
     "ename": "IndentationError",
     "evalue": "unexpected indent (<ipython-input-48-438f8a753cf9>, line 2)",
     "output_type": "error",
     "traceback": [
      "\u001b[0;36m  File \u001b[0;32m\"<ipython-input-48-438f8a753cf9>\"\u001b[0;36m, line \u001b[0;32m2\u001b[0m\n\u001b[0;31m    reader = csv.reader(infile)\u001b[0m\n\u001b[0m    ^\u001b[0m\n\u001b[0;31mIndentationError\u001b[0m\u001b[0;31m:\u001b[0m unexpected indent\n"
     ]
    }
   ],
   "source": [
    "#with open('patientdata.csv', mode='r') as infile:\n",
    "    reader = csv.reader(infile)\n",
    "    with open('datadic.csv', mode='w') as outfile:\n",
    "        writer = csv.writer(outfile)\n",
    "        mydict = {rows[0]:rows[1] for rows in reader}\n",
    "#This is how I tried to convert my patientdata.csv\n",
    "#file into datadic.csv dictionary. However,\n",
    "#datadic.csv would come out as empty.\n",
    "#(I stopped it with a # because I think this\n",
    "#or another with command was breaking my python)"
   ]
  },
  {
   "cell_type": "code",
   "execution_count": 50,
   "metadata": {
    "scrolled": true
   },
   "outputs": [
    {
     "ename": "IndentationError",
     "evalue": "unexpected indent (<ipython-input-50-73fc54d5a705>, line 3)",
     "output_type": "error",
     "traceback": [
      "\u001b[0;36m  File \u001b[0;32m\"<ipython-input-50-73fc54d5a705>\"\u001b[0;36m, line \u001b[0;32m3\u001b[0m\n\u001b[0;31m    reader = csv.DictReader(csvfile)\u001b[0m\n\u001b[0m    ^\u001b[0m\n\u001b[0;31mIndentationError\u001b[0m\u001b[0;31m:\u001b[0m unexpected indent\n"
     ]
    }
   ],
   "source": [
    "import csv\n",
    "#with open('patientdata.csv', newline='') as csvfile:\n",
    "    reader = csv.DictReader(csvfile)\n",
    "    for row in reader:\n",
    "            print(row['sex'], row['age'])\n",
    "#This is my attempt in trying to get python\n",
    "#to just output every patient's sex and their\n",
    "#age and nothing else. But I couldn't really test\n",
    "#it because I couldn't convert my file to a\n",
    "#dictionary"
   ]
  },
  {
   "cell_type": "code",
   "execution_count": 86,
   "metadata": {},
   "outputs": [
    {
     "ename": "NameError",
     "evalue": "name 'datadic' is not defined",
     "output_type": "error",
     "traceback": [
      "\u001b[0;31m---------------------------------------------------------------------------\u001b[0m",
      "\u001b[0;31mNameError\u001b[0m                                 Traceback (most recent call last)",
      "\u001b[0;32m<ipython-input-86-7dc4b1e9d416>\u001b[0m in \u001b[0;36m<module>\u001b[0;34m\u001b[0m\n\u001b[1;32m      5\u001b[0m \u001b[0mget_ipython\u001b[0m\u001b[0;34m(\u001b[0m\u001b[0;34m)\u001b[0m\u001b[0;34m.\u001b[0m\u001b[0mrun_line_magic\u001b[0m\u001b[0;34m(\u001b[0m\u001b[0;34m'matplotlib'\u001b[0m\u001b[0;34m,\u001b[0m \u001b[0;34m'inline'\u001b[0m\u001b[0;34m)\u001b[0m\u001b[0;34m\u001b[0m\u001b[0;34m\u001b[0m\u001b[0m\n\u001b[1;32m      6\u001b[0m \u001b[0;34m\u001b[0m\u001b[0m\n\u001b[0;32m----> 7\u001b[0;31m \u001b[0mdatadic\u001b[0m\u001b[0;34m.\u001b[0m\u001b[0mplot\u001b[0m\u001b[0;34m(\u001b[0m\u001b[0mx\u001b[0m\u001b[0;34m=\u001b[0m\u001b[0;34m'Male Ages'\u001b[0m\u001b[0;34m,\u001b[0m \u001b[0my\u001b[0m\u001b[0;34m=\u001b[0m\u001b[0;34m'Female Ages'\u001b[0m\u001b[0;34m,\u001b[0m \u001b[0mstyle\u001b[0m \u001b[0;34m=\u001b[0m\u001b[0;34m'o'\u001b[0m\u001b[0;34m)\u001b[0m\u001b[0;34m\u001b[0m\u001b[0;34m\u001b[0m\u001b[0m\n\u001b[0m\u001b[1;32m      8\u001b[0m \u001b[0mplt\u001b[0m\u001b[0;34m.\u001b[0m\u001b[0mtitle\u001b[0m\u001b[0;34m(\u001b[0m\u001b[0;34m'Male Ages vs Female Ages'\u001b[0m\u001b[0;34m)\u001b[0m\u001b[0;34m\u001b[0m\u001b[0;34m\u001b[0m\u001b[0m\n\u001b[1;32m      9\u001b[0m \u001b[0mplt\u001b[0m\u001b[0;34m.\u001b[0m\u001b[0mxlabel\u001b[0m\u001b[0;34m(\u001b[0m\u001b[0;34m'Male Ages'\u001b[0m\u001b[0;34m)\u001b[0m\u001b[0;34m\u001b[0m\u001b[0;34m\u001b[0m\u001b[0m\n",
      "\u001b[0;31mNameError\u001b[0m: name 'datadic' is not defined"
     ]
    }
   ],
   "source": [
    "import seaborn as seabornInstance \n",
    "from sklearn.model_selection import train_test_split \n",
    "from sklearn.linear_model import LinearRegression\n",
    "from sklearn import metrics\n",
    "%matplotlib inline\n",
    "\n",
    "datadic.plot(x='Male Ages', y='Female Ages', style ='o')\n",
    "plt.title('Male Ages vs Female Ages')\n",
    "plt.xlabel('Male Ages')\n",
    "plt.ylabel('FemaleAges')\n",
    "plt.show()\n",
    "#Here, I thought if I can get a file with the\n",
    "#male ages and female ages, then I could do\n",
    "#this. The best way to do this I believe is\n",
    "#with a dictionary but I couldn't make one.\n",
    "#the line of datadic.plot(x='Male Ages'....)\n",
    "#is just place holder. Male Ages and Female Ages\n",
    "#aren't in a datadic file, those are all just\n",
    "#place holders"
   ]
  },
  {
   "cell_type": "markdown",
   "metadata": {},
   "source": [
    "#Part 3"
   ]
  },
  {
   "cell_type": "code",
   "execution_count": 21,
   "metadata": {},
   "outputs": [],
   "source": [
    "import csv\n",
    "csv_file = ('patientdata.csv')\n",
    "txt_file = ('textfile.txt')\n",
    "with open(txt_file, \"w\") as my_output_file:\n",
    "    with open(csv_file, \"r\") as my_input_file:\n",
    "        [ my_output_file.write(\" \".join(row)+'\\n') for row in csv.reader(my_input_file)]\n",
    "    my_output_file.close()\n",
    "#I didn't know how to use the formatting commands\n",
    "#to make an output file that extracts and modifies\n",
    "#my original file, saving it into a text file\n",
    "#all while making use of the .format()\n",
    "#Instead, here, I just wrote a command that takes\n",
    "#my original file and makes a text file out of it.\n",
    "#Otherwise, I know how to use the format command,\n",
    "#but just not in doing this."
   ]
  },
  {
   "cell_type": "code",
   "execution_count": 22,
   "metadata": {},
   "outputs": [],
   "source": [
    "tmp_data = pd.read_csv('textfile.txt')\n",
    "textfile = tmp_data.to_numpy()"
   ]
  },
  {
   "cell_type": "code",
   "execution_count": 23,
   "metadata": {},
   "outputs": [
    {
     "name": "stdout",
     "output_type": "stream",
     "text": [
      "[['150733174 7/11/2015 15.7762 V 5 Male  57 33 1 9 1267']\n",
      " ['150734723 7/6/2015 83.2157 S 36 Male White 57 34 1 1 1439']\n",
      " ['150817487 8/2/2015 74.8813 L 20 Female  71 94 1 0 3274']\n",
      " ...\n",
      " ['150819286 7/24/2015 15.7762 V 38 Male  71 79 1 0 3250']\n",
      " ['150823002 8/8/2015 97.9239 M 38 Female White 59 82 1 1 464']\n",
      " ['150723074 6/20/2015 49.2646 M 5 Female White 57 34 1 9 3273']]\n"
     ]
    }
   ],
   "source": [
    "print(textfile)"
   ]
  },
  {
   "cell_type": "code",
   "execution_count": 20,
   "metadata": {},
   "outputs": [
    {
     "name": "stdout",
     "output_type": "stream",
     "text": [
      "defaultdict(<class 'int'>, {})\n"
     ]
    }
   ],
   "source": [
    "import csv\n",
    "with open(\"patientdata.csv\") as f:\n",
    "    reader = csv.DictReader(f)\n",
    "    for i, row in enumerate(reader):\n",
    "        NumMales = defaultdict(int)\n",
    "for Male in defaultdict(int):\n",
    "    NumMales[Male] += 1\n",
    "print(NumMales)"
   ]
  },
  {
   "cell_type": "code",
   "execution_count": 70,
   "metadata": {},
   "outputs": [
    {
     "name": "stdout",
     "output_type": "stream",
     "text": [
      "{'150733174': '150734723', '7/11/2015': '7/6/2015', '15.7762': '83.2157', 'V': 'S', '5': '36', 'Male': 'Male', '': 'White', '57': '57', '33': '34', '1': '1', '9': '1', '1267': '1439'}\n",
      "{'150733174': '150717776', '7/11/2015': '6/26/2015', '15.7762': '15.7762', 'V': 'V', '5': '61', 'Male': 'Male', '': '', '57': '71', '33': '35', '1': '1', '9': '0', '1267': '611'}\n",
      "{'150733174': '150713483', '7/11/2015': '6/8/2015', '15.7762': '15.7762', 'V': 'V', '5': '25', 'Male': 'Male', '': 'Black', '57': '51', '33': '33', '1': '4', '9': '9', '1267': '1138'}\n"
     ]
    }
   ],
   "source": [
    "tmp_maledata = pd.read_csv('maledata.csv')\n",
    "maledata = tmp_maledata.to_numpy()\n",
    "import csv\n",
    "with open(\"maledata.csv\") as f:\n",
    "    reader = csv.DictReader(f)\n",
    "    for i, row in enumerate(reader):\n",
    "        print(dict(row))\n",
    "        if i > 1:\n",
    "            break"
   ]
  },
  {
   "cell_type": "code",
   "execution_count": 71,
   "metadata": {},
   "outputs": [
    {
     "name": "stdout",
     "output_type": "stream",
     "text": [
      "{'150817487': '150721694', '8/2/2015': '7/4/2015', '74.8813': '74.8813', 'L': 'L', '20': '88', 'Female': 'Female', '': 'Other', '71': '62', '94': '75', '1': '1', '0': '0', '3274': '1893'}\n",
      "{'150817487': '150721815', '8/2/2015': '7/2/2015', '74.8813': '5.6748', 'L': 'C', '20': '1', 'Female': 'Female', '': 'White', '71': '71', '94': '76', '1': '1', '0': '1', '3274': '1715'}\n",
      "{'150817487': '150734928', '8/2/2015': '7/13/2015', '74.8813': '74.8813', 'L': 'L', '20': '48', 'Female': 'Female', '': 'Black', '71': '53', '94': '79', '1': '1', '0': '5', '3274': '4057'}\n"
     ]
    }
   ],
   "source": [
    "tmp_femaledata = pd.read_csv('femaledata.csv')\n",
    "femaledata = tmp_femaledata.to_numpy()\n",
    "import csv\n",
    "with open(\"femaledata.csv\") as f:\n",
    "    reader = csv.DictReader(f)\n",
    "    for i, row in enumerate(reader):\n",
    "        print(dict(row))\n",
    "        if i > 1:\n",
    "            break"
   ]
  },
  {
   "cell_type": "code",
   "execution_count": 72,
   "metadata": {},
   "outputs": [
    {
     "name": "stdout",
     "output_type": "stream",
     "text": [
      "[36 61 25 ... 2 7 38]\n"
     ]
    }
   ],
   "source": [
    "age = maledata[:,4]\n",
    "print(age)"
   ]
  },
  {
   "cell_type": "code",
   "execution_count": 73,
   "metadata": {},
   "outputs": [
    {
     "name": "stdout",
     "output_type": "stream",
     "text": [
      "[88 1 48 ... 3 38 5]\n"
     ]
    }
   ],
   "source": [
    "age = femaledata[:,4]\n",
    "print(age)"
   ]
  },
  {
   "cell_type": "code",
   "execution_count": null,
   "metadata": {},
   "outputs": [],
   "source": []
  }
 ],
 "metadata": {
  "kernelspec": {
   "display_name": "Python 3",
   "language": "python",
   "name": "python3"
  },
  "language_info": {
   "codemirror_mode": {
    "name": "ipython",
    "version": 3
   },
   "file_extension": ".py",
   "mimetype": "text/x-python",
   "name": "python",
   "nbconvert_exporter": "python",
   "pygments_lexer": "ipython3",
   "version": "3.7.5"
  }
 },
 "nbformat": 4,
 "nbformat_minor": 2
}
